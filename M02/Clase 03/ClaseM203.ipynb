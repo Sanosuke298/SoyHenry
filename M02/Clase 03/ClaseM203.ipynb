{
 "cells": [
  {
   "cell_type": "code",
   "execution_count": 1,
   "metadata": {},
   "outputs": [],
   "source": [
    "from math import factorial\n",
    "import pandas as pd\n",
    "import numpy as np"
   ]
  },
  {
   "cell_type": "code",
   "execution_count": 2,
   "metadata": {},
   "outputs": [
    {
     "name": "stdout",
     "output_type": "stream",
     "text": [
      "1024\n",
      "1024\n"
     ]
    },
    {
     "data": {
      "text/plain": [
       "'\\n1024 La cantidad de posibles resultados de lanzar 10 veces una moneda\\n\\n'"
      ]
     },
     "execution_count": 2,
     "metadata": {},
     "output_type": "execute_result"
    }
   ],
   "source": [
    "\"\"\"\n",
    "Al lanzar 1 moneda tenemos estos posibles resultados:\n",
    "\n",
    "Cara(H)\n",
    "Cruz(T)\n",
    "\n",
    "m = {(T,T,T,T,T,T,T,T,T),(H,H,H,H,H,H,H,H,H,H,H),(H,H,H,H,H,T,T,T,T,T),(H,H,T,T,T,T,T,T,T,T),....}\n",
    "\n",
    "Reglas de conteo:\n",
    "Permutaciones\n",
    "Combinaciones\n",
    "-------------------------------------------------------------------------------------------------\n",
    "\n",
    "n Cantidad de posibles resultados                -> Cara o Cruz -> n = 2\n",
    "x Cantidad de veces que se repite el experimento -> Se lanza la moneda 10 veces -> x = 10\n",
    "\n",
    "n**x\n",
    "n^x\n",
    "\"\"\"\n",
    "\n",
    "print(2**10)\n",
    "print(pow(2,10))\n",
    "\n",
    "\"\"\"\n",
    "1024 La cantidad de posibles resultados de lanzar 10 veces una moneda\n",
    "\n",
    "\"\"\""
   ]
  },
  {
   "cell_type": "code",
   "execution_count": 3,
   "metadata": {},
   "outputs": [
    {
     "name": "stdout",
     "output_type": "stream",
     "text": [
      "4\n"
     ]
    },
    {
     "data": {
      "text/plain": [
       "'\\n(H,H)\\n(H,T)\\n(T,H)\\n(T,T)\\n'"
      ]
     },
     "execution_count": 3,
     "metadata": {},
     "output_type": "execute_result"
    }
   ],
   "source": [
    "print(2**2)\n",
    "\"\"\"\n",
    "(H,H)\n",
    "(H,T)\n",
    "(T,H)\n",
    "(T,T)\n",
    "\"\"\""
   ]
  },
  {
   "cell_type": "code",
   "execution_count": 4,
   "metadata": {},
   "outputs": [
    {
     "name": "stdout",
     "output_type": "stream",
     "text": [
      "120.0\n"
     ]
    }
   ],
   "source": [
    "# 2 \n",
    "\n",
    "\"\"\"\n",
    "n = Cantidad de pasajeros\n",
    "r = Cantidad que necesita la policia\n",
    "\n",
    "nCr = n! / r! * (n-r)!\n",
    "\n",
    "10C3 = 10! / 3! * (10-3)!\n",
    "\"\"\"\n",
    "control = factorial(10) / (factorial(3) * factorial(10-3))\n",
    "print(control)"
   ]
  },
  {
   "cell_type": "code",
   "execution_count": 5,
   "metadata": {},
   "outputs": [],
   "source": [
    "# 3\n",
    "\n",
    "regiones = ['Norte','Noreste','Sur','Centro']\n",
    "\n",
    "valores_si = [148,162,296,252]\n",
    "\n",
    "valores_no = [52,54,74,48]\n",
    "\n",
    "datos = {'Si':valores_si, 'No':valores_no}\n",
    "\n",
    "df = pd.DataFrame(datos, index=regiones)"
   ]
  },
  {
   "cell_type": "code",
   "execution_count": 6,
   "metadata": {},
   "outputs": [
    {
     "data": {
      "text/html": [
       "<div>\n",
       "<style scoped>\n",
       "    .dataframe tbody tr th:only-of-type {\n",
       "        vertical-align: middle;\n",
       "    }\n",
       "\n",
       "    .dataframe tbody tr th {\n",
       "        vertical-align: top;\n",
       "    }\n",
       "\n",
       "    .dataframe thead th {\n",
       "        text-align: right;\n",
       "    }\n",
       "</style>\n",
       "<table border=\"1\" class=\"dataframe\">\n",
       "  <thead>\n",
       "    <tr style=\"text-align: right;\">\n",
       "      <th></th>\n",
       "      <th>Si</th>\n",
       "      <th>No</th>\n",
       "    </tr>\n",
       "  </thead>\n",
       "  <tbody>\n",
       "    <tr>\n",
       "      <th>Norte</th>\n",
       "      <td>148</td>\n",
       "      <td>52</td>\n",
       "    </tr>\n",
       "    <tr>\n",
       "      <th>Noreste</th>\n",
       "      <td>162</td>\n",
       "      <td>54</td>\n",
       "    </tr>\n",
       "    <tr>\n",
       "      <th>Sur</th>\n",
       "      <td>296</td>\n",
       "      <td>74</td>\n",
       "    </tr>\n",
       "    <tr>\n",
       "      <th>Centro</th>\n",
       "      <td>252</td>\n",
       "      <td>48</td>\n",
       "    </tr>\n",
       "  </tbody>\n",
       "</table>\n",
       "</div>"
      ],
      "text/plain": [
       "          Si  No\n",
       "Norte    148  52\n",
       "Noreste  162  54\n",
       "Sur      296  74\n",
       "Centro   252  48"
      ]
     },
     "execution_count": 6,
     "metadata": {},
     "output_type": "execute_result"
    }
   ],
   "source": [
    "df"
   ]
  },
  {
   "cell_type": "code",
   "execution_count": 7,
   "metadata": {},
   "outputs": [],
   "source": [
    "# a) Se puede decir que se utilizo la corriente frecuentista "
   ]
  },
  {
   "cell_type": "code",
   "execution_count": 8,
   "metadata": {},
   "outputs": [
    {
     "data": {
      "text/html": [
       "<div>\n",
       "<style scoped>\n",
       "    .dataframe tbody tr th:only-of-type {\n",
       "        vertical-align: middle;\n",
       "    }\n",
       "\n",
       "    .dataframe tbody tr th {\n",
       "        vertical-align: top;\n",
       "    }\n",
       "\n",
       "    .dataframe thead th {\n",
       "        text-align: right;\n",
       "    }\n",
       "</style>\n",
       "<table border=\"1\" class=\"dataframe\">\n",
       "  <thead>\n",
       "    <tr style=\"text-align: right;\">\n",
       "      <th></th>\n",
       "      <th>Si</th>\n",
       "      <th>No</th>\n",
       "    </tr>\n",
       "  </thead>\n",
       "  <tbody>\n",
       "    <tr>\n",
       "      <th>Norte</th>\n",
       "      <td>148</td>\n",
       "      <td>52</td>\n",
       "    </tr>\n",
       "    <tr>\n",
       "      <th>Noreste</th>\n",
       "      <td>162</td>\n",
       "      <td>54</td>\n",
       "    </tr>\n",
       "    <tr>\n",
       "      <th>Sur</th>\n",
       "      <td>296</td>\n",
       "      <td>74</td>\n",
       "    </tr>\n",
       "    <tr>\n",
       "      <th>Centro</th>\n",
       "      <td>252</td>\n",
       "      <td>48</td>\n",
       "    </tr>\n",
       "  </tbody>\n",
       "</table>\n",
       "</div>"
      ],
      "text/plain": [
       "          Si  No\n",
       "Norte    148  52\n",
       "Noreste  162  54\n",
       "Sur      296  74\n",
       "Centro   252  48"
      ]
     },
     "execution_count": 8,
     "metadata": {},
     "output_type": "execute_result"
    }
   ],
   "source": [
    "df2 = df.copy()\n",
    "df2"
   ]
  },
  {
   "cell_type": "code",
   "execution_count": 9,
   "metadata": {},
   "outputs": [
    {
     "data": {
      "text/plain": [
       "1086"
      ]
     },
     "execution_count": 9,
     "metadata": {},
     "output_type": "execute_result"
    }
   ],
   "source": [
    "(sum(df2.Si) + sum(df.No))   # El total de casos estudiados"
   ]
  },
  {
   "cell_type": "code",
   "execution_count": 10,
   "metadata": {},
   "outputs": [
    {
     "data": {
      "text/html": [
       "<div>\n",
       "<style scoped>\n",
       "    .dataframe tbody tr th:only-of-type {\n",
       "        vertical-align: middle;\n",
       "    }\n",
       "\n",
       "    .dataframe tbody tr th {\n",
       "        vertical-align: top;\n",
       "    }\n",
       "\n",
       "    .dataframe thead th {\n",
       "        text-align: right;\n",
       "    }\n",
       "</style>\n",
       "<table border=\"1\" class=\"dataframe\">\n",
       "  <thead>\n",
       "    <tr style=\"text-align: right;\">\n",
       "      <th></th>\n",
       "      <th>Si</th>\n",
       "      <th>No</th>\n",
       "    </tr>\n",
       "  </thead>\n",
       "  <tbody>\n",
       "    <tr>\n",
       "      <th>Norte</th>\n",
       "      <td>0.136280</td>\n",
       "      <td>0.047882</td>\n",
       "    </tr>\n",
       "    <tr>\n",
       "      <th>Noreste</th>\n",
       "      <td>0.149171</td>\n",
       "      <td>0.049724</td>\n",
       "    </tr>\n",
       "    <tr>\n",
       "      <th>Sur</th>\n",
       "      <td>0.272560</td>\n",
       "      <td>0.068140</td>\n",
       "    </tr>\n",
       "    <tr>\n",
       "      <th>Centro</th>\n",
       "      <td>0.232044</td>\n",
       "      <td>0.044199</td>\n",
       "    </tr>\n",
       "  </tbody>\n",
       "</table>\n",
       "</div>"
      ],
      "text/plain": [
       "               Si        No\n",
       "Norte    0.136280  0.047882\n",
       "Noreste  0.149171  0.049724\n",
       "Sur      0.272560  0.068140\n",
       "Centro   0.232044  0.044199"
      ]
     },
     "execution_count": 10,
     "metadata": {},
     "output_type": "execute_result"
    }
   ],
   "source": [
    "# b ASIGNACIÓN DE PROBABILIDADES\n",
    "df2/(sum(df2.Si) + sum(df2.No))   "
   ]
  },
  {
   "cell_type": "code",
   "execution_count": 12,
   "metadata": {},
   "outputs": [
    {
     "name": "stdout",
     "output_type": "stream",
     "text": [
      "La probabilidad de que una persona lleve el cinturón en los Estados Unidos es de 79.0 %\n"
     ]
    }
   ],
   "source": [
    "# C\n",
    "# Total de casos que si llevaban cinturon / Total de casos estudiados\n",
    "\n",
    "prob = round(sum(df.Si) / (sum(df2.Si) + sum(df2.No)),2)    # 858 / 1086\n",
    "print(f'La probabilidad de que una persona lleve el cinturón en los Estados Unidos es de {prob*100} %')"
   ]
  },
  {
   "cell_type": "code",
   "execution_count": null,
   "metadata": {},
   "outputs": [],
   "source": [
    "# d\n",
    "# Estará satisfecho porque los resultados del estudio arrojaron que la probabilidad es de 0.79, un punto más de lo esperado\n"
   ]
  },
  {
   "cell_type": "code",
   "execution_count": 13,
   "metadata": {},
   "outputs": [
    {
     "data": {
      "text/plain": [
       "Norte      0.136280\n",
       "Noreste    0.149171\n",
       "Sur        0.272560\n",
       "Centro     0.232044\n",
       "Name: Si, dtype: float64"
      ]
     },
     "execution_count": 13,
     "metadata": {},
     "output_type": "execute_result"
    }
   ],
   "source": [
    "# e\n",
    "\n",
    "df2.Si / (sum(df2.Si) + sum(df2.No))  "
   ]
  },
  {
   "cell_type": "code",
   "execution_count": 14,
   "metadata": {},
   "outputs": [
    {
     "name": "stdout",
     "output_type": "stream",
     "text": [
      "La probabilidad de que usen el cinturon en el norte del pais es de: 13.63, en el noreste es de: 14.92, en el sur del pais es de: 27.26 y en el centro es de: 23.2\n"
     ]
    }
   ],
   "source": [
    "norte = round((148 / 1086) * 100,2)\n",
    "noreste = round((162 / 1086) * 100,2)\n",
    "sur = round((296 / 1086) * 100,2)\n",
    "centro = round((252 / 1086) * 100,2)\n",
    "\n",
    "print(f'La probabilidad de que usen el cinturon en el norte del pais es de: {norte}, en el noreste es de: {noreste}, en el sur del pais es de: {sur} y en el centro es de: {centro}')"
   ]
  },
  {
   "cell_type": "code",
   "execution_count": 15,
   "metadata": {},
   "outputs": [],
   "source": [
    "# 4\n",
    "\n",
    "\"\"\"\n",
    "TotalCartas = 52\n",
    "rojas = 26              -> TotalCartas / 2\n",
    "negras = 26             -> TotalCartas / 2\n",
    "\n",
    "pica = negras / 2\n",
    "trebol = negras / 2\n",
    "diamante = rojas / 2\n",
    "corazones = rojas / 2\n",
    "\"\"\"\n",
    "\n",
    "def ProbabilidadNaipes(categoria):\n",
    "    TotalCartas = 52\n",
    "    colores = 26            # totalCartas / 2\n",
    "    simbolos = 13           # colores / 2\n",
    "\n",
    "    if (categoria=='roja' or categoria=='negra'):\n",
    "        return colores / TotalCartas\n",
    "    elif (categoria in ['pica','trebol','diamante','corazones']):\n",
    "        return simbolos / TotalCartas"
   ]
  },
  {
   "cell_type": "code",
   "execution_count": 17,
   "metadata": {},
   "outputs": [
    {
     "data": {
      "text/plain": [
       "0.5"
      ]
     },
     "execution_count": 17,
     "metadata": {},
     "output_type": "execute_result"
    }
   ],
   "source": [
    "ProbabilidadNaipes('negra')"
   ]
  },
  {
   "cell_type": "code",
   "execution_count": 19,
   "metadata": {},
   "outputs": [
    {
     "data": {
      "text/plain": [
       "0.25"
      ]
     },
     "execution_count": 19,
     "metadata": {},
     "output_type": "execute_result"
    }
   ],
   "source": [
    "ProbabilidadNaipes('trebol')"
   ]
  },
  {
   "cell_type": "markdown",
   "metadata": {},
   "source": [
    "7 pica 7 trebol 7 diamantes 7 corazones = 4 -> 4 / 52 -> Probabilidad de obtener un 7\n",
    "\n",
    "\n",
    "8 pica 8 trebol 8 diamantes 8 corazones = 4 -> 4 / 52 -> Probabilidad de obtener un 8\n",
    "\n",
    "\n",
    "4/52 + 4/52 -> (4+4)/52 -> Probabilidad de obtener un 7 o de obtener un 8"
   ]
  },
  {
   "cell_type": "code",
   "execution_count": 21,
   "metadata": {},
   "outputs": [
    {
     "name": "stdout",
     "output_type": "stream",
     "text": [
      "15.384615384615385\n"
     ]
    }
   ],
   "source": [
    "print((4+4)/52 * 100)"
   ]
  },
  {
   "cell_type": "code",
   "execution_count": 22,
   "metadata": {},
   "outputs": [],
   "source": [
    "def ProbabilidadNaipes2(numero=None, color=None):\n",
    "    totalCartas = 52\n",
    "    colores = 26\n",
    "\n",
    "    if (numero == None and color in ['roja','negra']):\n",
    "        return colores / totalCartas\n",
    "\n",
    "    elif (numero != None and color in ['roja','negra']):\n",
    "        return (colores/totalCartas) * (4/totalCartas)\n",
    "\n",
    "    elif (numero != None and color == None):\n",
    "        return 4/totalCartas"
   ]
  },
  {
   "cell_type": "code",
   "execution_count": 23,
   "metadata": {},
   "outputs": [],
   "source": [
    "# 26 / 52  * 4 / 52 -> 26*4 / 52*52  ->  2 / 52 -> 0.038"
   ]
  },
  {
   "cell_type": "code",
   "execution_count": 24,
   "metadata": {},
   "outputs": [
    {
     "data": {
      "text/plain": [
       "0.038461538461538464"
      ]
     },
     "execution_count": 24,
     "metadata": {},
     "output_type": "execute_result"
    }
   ],
   "source": [
    "ProbabilidadNaipes2(7,'roja')"
   ]
  },
  {
   "cell_type": "code",
   "execution_count": 25,
   "metadata": {},
   "outputs": [
    {
     "data": {
      "text/plain": [
       "0.07692307692307693"
      ]
     },
     "execution_count": 25,
     "metadata": {},
     "output_type": "execute_result"
    }
   ],
   "source": [
    "ProbabilidadNaipes2(7)"
   ]
  },
  {
   "cell_type": "code",
   "execution_count": 26,
   "metadata": {},
   "outputs": [
    {
     "data": {
      "text/plain": [
       "0.038461538461538464"
      ]
     },
     "execution_count": 26,
     "metadata": {},
     "output_type": "execute_result"
    }
   ],
   "source": [
    "ProbabilidadNaipes2(8,'negra')"
   ]
  },
  {
   "cell_type": "code",
   "execution_count": 27,
   "metadata": {},
   "outputs": [
    {
     "data": {
      "text/plain": [
       "0.03125"
      ]
     },
     "execution_count": 27,
     "metadata": {},
     "output_type": "execute_result"
    }
   ],
   "source": [
    "# 6  Corriente clasica\n",
    "\n",
    "1 / 32"
   ]
  },
  {
   "cell_type": "code",
   "execution_count": null,
   "metadata": {},
   "outputs": [],
   "source": [
    "# Corriente frecuentista\n",
    "\n",
    "arg = 3 / 22\n",
    "br = 5 / 22\n",
    "it = 4 / 22\n",
    "ur = 2 / 22\n",
    "es = 1 / 22\n",
    "ing = 1 / 22\n",
    "al = 4 / 22\n",
    "fr = 2 / 22"
   ]
  },
  {
   "cell_type": "code",
   "execution_count": null,
   "metadata": {},
   "outputs": [],
   "source": [
    "# https://bit.ly/mundialfutboll "
   ]
  },
  {
   "cell_type": "code",
   "execution_count": 29,
   "metadata": {},
   "outputs": [
    {
     "name": "stdout",
     "output_type": "stream",
     "text": [
      "La probabilidad del resultado e1 es de: 40.0%, del resultado e2: 26.0% y la del resultado e3: 34.0%\n"
     ]
    }
   ],
   "source": [
    "#  7\n",
    "experimentos = 50\n",
    "e1 = 20 / 50 * 100\n",
    "e2 = 13 / 50 * 100\n",
    "e3 = 17 / 50 * 100\n",
    "\n",
    "\n",
    "print(f'La probabilidad del resultado e1 es de: {e1}%, del resultado e2: {e2}% y la del resultado e3: {e3}%')"
   ]
  },
  {
   "cell_type": "code",
   "execution_count": 34,
   "metadata": {},
   "outputs": [
    {
     "name": "stdout",
     "output_type": "stream",
     "text": [
      "La probabilidad de que el dado caiga en un número par o que el número sea > 2 es de 0.8333333333333333\n",
      "La probabilidad de que el dado caiga en un número que es par y al mismo tiempo es mayor que 2 0.3333333333333333\n"
     ]
    }
   ],
   "source": [
    "\"\"\"\n",
    "                                                        SUCESOS COMPATIBLES\n",
    "A = Sea un numero par\n",
    "B = Sea mayor a 2\n",
    "\n",
    "P(A) = Cant Pares / Cant total de números           -> 3/6\n",
    "P(B) = Cant num > 2 / Cant total de números         -> 4/6\n",
    "P(AnB) = P(A) * P(B)\n",
    "\n",
    "P(AuB) = P(A) + P(B) - P(AnB)\n",
    "p(AuB) = P(A) + P(B) - (P(A) * P(B))\n",
    "\"\"\"\n",
    "p = 3/6 + 4/6 - (3/6 * 4/6)\n",
    "print(f'La probabilidad de que el dado caiga en un número par o que el número sea > 2 es de {p}')\n",
    "print(f'La probabilidad de que el dado caiga en un número que es par y al mismo tiempo es mayor que 2 {(3/6 * 4/6)}')"
   ]
  },
  {
   "cell_type": "code",
   "execution_count": 32,
   "metadata": {},
   "outputs": [
    {
     "name": "stdout",
     "output_type": "stream",
     "text": [
      "0.3333333333333333\n"
     ]
    }
   ],
   "source": [
    "p4 = 1/6\n",
    "p6 = 1/6\n",
    "print(p4+p6)"
   ]
  },
  {
   "cell_type": "code",
   "execution_count": 38,
   "metadata": {},
   "outputs": [
    {
     "name": "stdout",
     "output_type": "stream",
     "text": [
      "La probabilidad de que el dado caiga en un número par o que el dado caiga en un número impar 1.0\n",
      "La probabilidad de que el dado caiga en un número par y que el dado caiga en un número impar 0\n"
     ]
    }
   ],
   "source": [
    "\"\"\"\n",
    "                                                SUCESOS MUTUAMENTE EXCLUYENTES\n",
    "A = Sea par\n",
    "B = Sea impar\n",
    "\n",
    "P(A) = Cant pares / Cant total números\n",
    "P(B) = Cant impares / Cant total números\n",
    "\n",
    "P(AnB) = P(A) * P(B)   = 0\n",
    "\n",
    "P(AuB) = P(A) + P(B) - P(AnB)\n",
    "P(AuB) = P(A) + P(B) - 0\n",
    "P(AuB) = P(A) + P(B)                    Probabilidad de que sea par o impar el número del dado\n",
    "\"\"\"\n",
    "p = 3/6 + 3/6 - 0\n",
    "print(f'La probabilidad de que el dado caiga en un número par o que el dado caiga en un número impar {p}')\n",
    "print(f'La probabilidad de que el dado caiga en un número par y que el dado caiga en un número impar {0}')"
   ]
  },
  {
   "cell_type": "code",
   "execution_count": 35,
   "metadata": {},
   "outputs": [
    {
     "data": {
      "text/plain": [
       "0.25"
      ]
     },
     "execution_count": 35,
     "metadata": {},
     "output_type": "execute_result"
    }
   ],
   "source": [
    "(3/6 * 3/6)"
   ]
  },
  {
   "cell_type": "code",
   "execution_count": 40,
   "metadata": {},
   "outputs": [
    {
     "name": "stdout",
     "output_type": "stream",
     "text": [
      "0.18666666666666668\n",
      "0.16000000000000003\n"
     ]
    }
   ],
   "source": [
    "\"\"\"\n",
    "Si la probabilidad de que un cliente pague en efectivo (E) es 6/15, con tarjeta de crédito (TD) es 7/15 y con tarjeta de débito (TD) es 2/15. Hallar la probabilidad de que dos clientes sucesivos que pagan sus cuentas lo hagan:\n",
    "a) el primero en efectivo y el segundo con tarjeta de crédito.\n",
    "b) Los dos clientes en efectivo\n",
    "\"\"\"\n",
    "efect = 6 / 15\n",
    "tc = 7 / 15\n",
    "td = 2 / 15\n",
    "\"\"\"\n",
    "a)\n",
    "A = Efectivo\n",
    "B = Tarjeta de crédito\n",
    "P(A) = 6 / 15\n",
    "P(B) = 7 / 15\n",
    "\n",
    "P(AnB) = P(A) * P(B)\n",
    "P(AnB) = 6 / 15 * 7 / 15\n",
    "\n",
    "\"\"\"\n",
    "print((6/15)*(7/15))\n",
    "\n",
    "\"\"\"\n",
    "b) \n",
    "A = Efectivo\n",
    "B = Efectivo\n",
    "\n",
    "P(A) = P(B) = 6 / 15\n",
    "P(AnB) = P(A) * P(B)\n",
    "P(AnB) = 6 / 15 * 6 / 15\n",
    "\n",
    "\"\"\"\n",
    "print((6/15)*(6/15))"
   ]
  },
  {
   "cell_type": "code",
   "execution_count": 45,
   "metadata": {},
   "outputs": [
    {
     "name": "stdout",
     "output_type": "stream",
     "text": [
      "La probabilidad de que una persona saque dos cartas y ambas sean del mismo color es de 0.2451 sin reposición\n",
      "La probabilidad de que una persona saque dos cartas y ambas sean del mismo color es de 0.25 con reposición\n"
     ]
    }
   ],
   "source": [
    "\"\"\"\n",
    "Calcular la probabilidad de que una persona saque dos cartas rojas de una baraja sin reposición\n",
    "\n",
    "A = La primera carta es roja\n",
    "B = La segunda carta tambien es roja\n",
    "\n",
    "P(A) = Cartas rojas / Cant cartas total\n",
    "P(B) = Cartas rojas / Cant cartas total                         -> Esto es asi si A NO SUCEDIÓ\n",
    "\n",
    "P(B|A) = Cartas rojas restantes / Cant cartas total restantes   -> Esto es asi si A SUCEDIÓ\n",
    "\n",
    "P(AnB) = P(A) * P(B|A)\n",
    "\n",
    "P(AnB) = (26 / 52)  * (25 / 51)\n",
    "\"\"\"\n",
    "pr = round((26 / 52) * (25 / 51),4)\n",
    "\n",
    "print(f'La probabilidad de que una persona saque dos cartas y ambas sean del mismo color es de {pr} sin reposición')\n",
    "print(f'La probabilidad de que una persona saque dos cartas y ambas sean del mismo color es de {(26/52) * (26/52)} con reposición')"
   ]
  },
  {
   "cell_type": "code",
   "execution_count": null,
   "metadata": {},
   "outputs": [],
   "source": [
    "\"\"\"\n",
    "P(A/B) = P(A)    -> Esto unicamente sucede en los eventos independientes\n",
    "\n",
    "P(A/B) = (P(AnB)) / P(B)\n",
    "\n",
    "P(AnB) = P(A) * P(B)\n",
    "\n",
    "P(A/B) = (P(A) * P(B)) / P(B)\n",
    "\n",
    "\"\"\""
   ]
  }
 ],
 "metadata": {
  "kernelspec": {
   "display_name": "Python 3.11.3 64-bit",
   "language": "python",
   "name": "python3"
  },
  "language_info": {
   "codemirror_mode": {
    "name": "ipython",
    "version": 3
   },
   "file_extension": ".py",
   "mimetype": "text/x-python",
   "name": "python",
   "nbconvert_exporter": "python",
   "pygments_lexer": "ipython3",
   "version": "3.11.3"
  },
  "orig_nbformat": 4,
  "vscode": {
   "interpreter": {
    "hash": "52634da84371cba311ea128a5ea7cdc41ff074b781779e754b270ff9f8153cee"
   }
  }
 },
 "nbformat": 4,
 "nbformat_minor": 2
}
