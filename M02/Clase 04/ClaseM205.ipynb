{
 "cells": [
  {
   "cell_type": "code",
   "execution_count": 3,
   "metadata": {},
   "outputs": [
    {
     "name": "stdout",
     "output_type": "stream",
     "text": [
      "0.6666666666666667\n",
      "0.8\n",
      "0.3\n"
     ]
    }
   ],
   "source": [
    "# 1 P(A) = 0.50, P(B) = 0.60 y P(A∩B) = 0.40\n",
    "\n",
    "# a) P(A|B) = P(AnB) / P(B) -> 0.40 / 0.60  == 0.66\n",
    "print(0.40/0.60)\n",
    "\n",
    "# b) P(B|A) = P(AnB) / P(A) -> 0.40 / 0.50 == 0.8\n",
    "print(0.40/0.50)\n",
    "\n",
    "# c) No son independientes, porque el producto de las probabilidades individuales no es igual a P(AnB) \n",
    "# P(AnB) = P(A) * P(B) != 0.40\n",
    "print(0.50*0.60)"
   ]
  },
  {
   "cell_type": "code",
   "execution_count": 6,
   "metadata": {},
   "outputs": [],
   "source": [
    "# 2 P(A) = 0.30 y P(B) = 0.40\n",
    "# a)  P(AnB) = P(A) * P(B) == 0 No puede existir una probabilidad conjunta en dos eventos mutuamente excluyentes\n",
    "# print(0.40 * 0.30)\n",
    "\n",
    "# b) P(A|B) = P(AnB) / P(B) -> 0 / 0.40  == 0 Dado que son mutuamente excluyentes y la prob de que suceda A dado que ya sucedio B es imposible, por su propia definición\n",
    "\n",
    "# c) No son lo mismo, el estudiante debera volver a estudiar, en los eventos mutuamente excluyenes la ocurrencia o no ocurrencia de uno de ellos\n",
    "# va a afectar directamente a la ocurrencia del otro evento, significando que no pueden ocurrir al mismo tiempo, osea queel calculo de\n",
    "# sus probabilidaes conjuntas es igual a 0. Mientras que en los eventos independientes la ocurrencia o no ocurrencia de uno de ellos no afecta a el otro evento.\n"
   ]
  },
  {
   "cell_type": "code",
   "execution_count": 11,
   "metadata": {},
   "outputs": [
    {
     "name": "stdout",
     "output_type": "stream",
     "text": [
      "La probabilidad de que el primer comprador sea menor a 40 y el segundo tenga entre 40 y 50 años es de: 16.0 %\n"
     ]
    }
   ],
   "source": [
    "# 3 ventas con reposición; Los sucesos son independientes\n",
    "# a)\n",
    "# P(<40) =   (30/80) =  0.375             P(40,50) = (34/80) = 0.425\n",
    "\n",
    "# P(<40 y 40,50) = P(<40) * P(40,50) -> 30/80 * 34/80 == 0.16\n",
    "print(f'La probabilidad de que el primer comprador sea menor a 40 y el segundo tenga entre 40 y 50 años es de: {round((30/80)*(34/80),2)*100} %')"
   ]
  },
  {
   "cell_type": "code",
   "execution_count": 14,
   "metadata": {},
   "outputs": [
    {
     "name": "stdout",
     "output_type": "stream",
     "text": [
      "La probabilidad de que dos compradores se lleven ambos un auto nacional es de: 39.0 %\n"
     ]
    }
   ],
   "source": [
    "# 3 b)\n",
    "# P(N) = (50/80) == 0.625\n",
    "\n",
    "# P(NyN) = P(N) * P(N) == (50/80) * (50/80) == 0.39\n",
    "print(f'La probabilidad de que dos compradores se lleven ambos un auto nacional es de: {round((50/80) * (50/80),2) * 100} %')"
   ]
  },
  {
   "cell_type": "code",
   "execution_count": 19,
   "metadata": {},
   "outputs": [
    {
     "name": "stdout",
     "output_type": "stream",
     "text": [
      "La probabilidad de que el primer comprador tenga menos de 40 y el segundo tenga entre 40 y 50 años es de: 16.139%\n"
     ]
    }
   ],
   "source": [
    "# 4 ventas se realiza sin reposición Los sucesos son condicionales.\n",
    "\n",
    "# P(<40) = (30/80)              P(40,50|<40) = (34/79)\n",
    "\n",
    "# a) P(<40y40,50) = P(<40) * P(40,50|<40)  -> (30/80) * (34/79) == 0.1614\n",
    "print(f'La probabilidad de que el primer comprador tenga menos de 40 y el segundo tenga entre 40 y 50 años es de: {round((30/80) * (34/79),5)*100}%')"
   ]
  },
  {
   "cell_type": "code",
   "execution_count": 21,
   "metadata": {},
   "outputs": [
    {
     "name": "stdout",
     "output_type": "stream",
     "text": [
      "La probabilidad de que entren dos compradores y ambos lleven autos nacionales sin reposicion es de: 38.766 %\n"
     ]
    }
   ],
   "source": [
    "# 4 b)\n",
    "\n",
    "# P(A) = Primer auto nacional\n",
    "# P(B) = Segundo auto tambien nacional \n",
    "\n",
    "# P(AnB) = P(A) * P(B|A)   -> (50/80) * (49/79) == 0.38766\n",
    "print(f'La probabilidad de que entren dos compradores y ambos lleven autos nacionales sin reposicion es de: {round((50/80) * (49/79),5)*100} %')"
   ]
  },
  {
   "cell_type": "code",
   "execution_count": 26,
   "metadata": {},
   "outputs": [
    {
     "name": "stdout",
     "output_type": "stream",
     "text": [
      "La probabilidad de que vengan dos compradores y uno sea <40 y el otro entre 40 y 50 años, sin import el orden es de: 32.28%\n"
     ]
    }
   ],
   "source": [
    "# 5 Los sucesos son condicionales.\n",
    "\n",
    "# P(<40y40,50) = [[P(<40) * P(40,50)] \n",
    "#                                      + \n",
    "#                [P(40,50) * P(<40)]]\n",
    "\n",
    "\n",
    "# P(<40y40,50) = [[(30/80) * (34/79)]\n",
    "#                                       +\n",
    "#                  [(34/80) * (30/79)]]\n",
    "#                 |||||||||||||||||||||\n",
    "#                 [[0.16139240506329114]\n",
    "#                                        +\n",
    "#                  [0.16139240506329114]]\n",
    "#                                           == 0.3227848101265823\n",
    "\n",
    "print(f'La probabilidad de que vengan dos compradores y uno sea <40 y el otro entre 40 y 50 años, sin import el orden es de: {round((34/80) * (30/79) + (30/80) * (34/79),4)*100}%')\n"
   ]
  },
  {
   "cell_type": "code",
   "execution_count": 43,
   "metadata": {},
   "outputs": [
    {
     "data": {
      "text/html": [
       "<div>\n",
       "<style scoped>\n",
       "    .dataframe tbody tr th:only-of-type {\n",
       "        vertical-align: middle;\n",
       "    }\n",
       "\n",
       "    .dataframe tbody tr th {\n",
       "        vertical-align: top;\n",
       "    }\n",
       "\n",
       "    .dataframe thead th {\n",
       "        text-align: right;\n",
       "    }\n",
       "</style>\n",
       "<table border=\"1\" class=\"dataframe\">\n",
       "  <thead>\n",
       "    <tr style=\"text-align: right;\">\n",
       "      <th></th>\n",
       "      <th>SI</th>\n",
       "      <th>NO</th>\n",
       "      <th>TOTAL</th>\n",
       "    </tr>\n",
       "  </thead>\n",
       "  <tbody>\n",
       "    <tr>\n",
       "      <th>18 a 34</th>\n",
       "      <td>750</td>\n",
       "      <td>170</td>\n",
       "      <td>920</td>\n",
       "    </tr>\n",
       "    <tr>\n",
       "      <th>35 o mayor</th>\n",
       "      <td>950</td>\n",
       "      <td>130</td>\n",
       "      <td>1080</td>\n",
       "    </tr>\n",
       "  </tbody>\n",
       "</table>\n",
       "</div>"
      ],
      "text/plain": [
       "             SI   NO  TOTAL\n",
       "18 a 34     750  170    920\n",
       "35 o mayor  950  130   1080"
      ]
     },
     "execution_count": 43,
     "metadata": {},
     "output_type": "execute_result"
    }
   ],
   "source": [
    "# 6\n",
    "import pandas as pd\n",
    "seguromedico = ['18 a 34','35 o mayor']\n",
    "edad18a34 = (750,950)\n",
    "edad35omayor = (170,130)\n",
    "total = (920,1080)\n",
    "datos = dict(SI = edad18a34,NO = edad35omayor, TOTAL=total)\n",
    "tabla = pd.DataFrame(data=datos,index=seguromedico)\n",
    "tabla"
   ]
  },
  {
   "cell_type": "code",
   "execution_count": 41,
   "metadata": {},
   "outputs": [],
   "source": [
    "tabla[2] = (sum(tabla.SI), sum(tabla.NO))"
   ]
  },
  {
   "cell_type": "code",
   "execution_count": 42,
   "metadata": {},
   "outputs": [
    {
     "data": {
      "text/html": [
       "<div>\n",
       "<style scoped>\n",
       "    .dataframe tbody tr th:only-of-type {\n",
       "        vertical-align: middle;\n",
       "    }\n",
       "\n",
       "    .dataframe tbody tr th {\n",
       "        vertical-align: top;\n",
       "    }\n",
       "\n",
       "    .dataframe thead th {\n",
       "        text-align: right;\n",
       "    }\n",
       "</style>\n",
       "<table border=\"1\" class=\"dataframe\">\n",
       "  <thead>\n",
       "    <tr style=\"text-align: right;\">\n",
       "      <th></th>\n",
       "      <th>SI</th>\n",
       "      <th>NO</th>\n",
       "      <th>TOTAL</th>\n",
       "      <th>2</th>\n",
       "    </tr>\n",
       "  </thead>\n",
       "  <tbody>\n",
       "    <tr>\n",
       "      <th>18 a 34</th>\n",
       "      <td>0.375</td>\n",
       "      <td>0.085</td>\n",
       "      <td>0.46</td>\n",
       "      <td>0.85</td>\n",
       "    </tr>\n",
       "    <tr>\n",
       "      <th>35 o mayor</th>\n",
       "      <td>0.475</td>\n",
       "      <td>0.065</td>\n",
       "      <td>0.54</td>\n",
       "      <td>0.15</td>\n",
       "    </tr>\n",
       "  </tbody>\n",
       "</table>\n",
       "</div>"
      ],
      "text/plain": [
       "               SI     NO  TOTAL     2\n",
       "18 a 34     0.375  0.085   0.46  0.85\n",
       "35 o mayor  0.475  0.065   0.54  0.15"
      ]
     },
     "execution_count": 42,
     "metadata": {},
     "output_type": "execute_result"
    }
   ],
   "source": [
    "tabla2 = tabla.copy()\n",
    "\n",
    "tabla2 / (sum(tabla.SI) + sum(tabla.NO))"
   ]
  },
  {
   "cell_type": "code",
   "execution_count": null,
   "metadata": {},
   "outputs": [],
   "source": [
    "# b)\n",
    "# Lo que nos indica es que en nuestra muestra tenemos un 46% de personas entre 18 y 34 años\n",
    "# y una mayoria de personas de 35 años o más con un porcentaje que representa el 54%\n",
    "\n"
   ]
  },
  {
   "cell_type": "code",
   "execution_count": 45,
   "metadata": {},
   "outputs": [
    {
     "data": {
      "text/html": [
       "<div>\n",
       "<style scoped>\n",
       "    .dataframe tbody tr th:only-of-type {\n",
       "        vertical-align: middle;\n",
       "    }\n",
       "\n",
       "    .dataframe tbody tr th {\n",
       "        vertical-align: top;\n",
       "    }\n",
       "\n",
       "    .dataframe thead th {\n",
       "        text-align: right;\n",
       "    }\n",
       "</style>\n",
       "<table border=\"1\" class=\"dataframe\">\n",
       "  <thead>\n",
       "    <tr style=\"text-align: right;\">\n",
       "      <th></th>\n",
       "      <th>Si (Tiene seguro médico)</th>\n",
       "      <th>No (No tiene seguro médico)</th>\n",
       "      <th>Total</th>\n",
       "    </tr>\n",
       "  </thead>\n",
       "  <tbody>\n",
       "    <tr>\n",
       "      <th>18 a 34</th>\n",
       "      <td>0.375</td>\n",
       "      <td>0.085</td>\n",
       "      <td>0.46</td>\n",
       "    </tr>\n",
       "    <tr>\n",
       "      <th>35 o mayor</th>\n",
       "      <td>0.475</td>\n",
       "      <td>0.065</td>\n",
       "      <td>0.54</td>\n",
       "    </tr>\n",
       "    <tr>\n",
       "      <th>Total</th>\n",
       "      <td>0.850</td>\n",
       "      <td>0.150</td>\n",
       "      <td>1.00</td>\n",
       "    </tr>\n",
       "  </tbody>\n",
       "</table>\n",
       "</div>"
      ],
      "text/plain": [
       "            Si (Tiene seguro médico)  No (No tiene seguro médico)  Total\n",
       "18 a 34                        0.375                        0.085   0.46\n",
       "35 o mayor                     0.475                        0.065   0.54\n",
       "Total                          0.850                        0.150   1.00"
      ]
     },
     "execution_count": 45,
     "metadata": {},
     "output_type": "execute_result"
    }
   ],
   "source": [
    "import pandas as pd\n",
    "\n",
    "data = {'Si (Tiene seguro médico)': [750, 950],\n",
    "        'No (No tiene seguro médico)': [170, 130]}\n",
    "df = pd.DataFrame(data, index=['18 a 34', '35 o mayor'])\n",
    "\n",
    "df['Total'] = df.sum(axis=1)\n",
    "\n",
    "df.loc['Total'] = df.sum()\n",
    "\n",
    "df_probabilidad_conjunta = df / df.loc['Total', 'Total']\n",
    "\n",
    "df_probabilidad_conjunta\n"
   ]
  },
  {
   "cell_type": "code",
   "execution_count": 46,
   "metadata": {},
   "outputs": [
    {
     "name": "stdout",
     "output_type": "stream",
     "text": [
      "0.15000000000000002\n"
     ]
    }
   ],
   "source": [
    "# c)\n",
    "# Basandonos en la tabla la probabilidad sin import la edad es de 0.15\n",
    "# Si quisieramos calcularlo deberiamos sumar las probabilidades para cada rango etario de que no tengan seguro medico (0.085 + 0.065) = 0.15"
   ]
  },
  {
   "cell_type": "code",
   "execution_count": 47,
   "metadata": {},
   "outputs": [
    {
     "name": "stdout",
     "output_type": "stream",
     "text": [
      "La probabilidad de que una persona tenga entre 18 y 34 y no tenga un seguro médico es de: 0.1847826086956522\n"
     ]
    }
   ],
   "source": [
    "# d)\n",
    "# P(18y34) = 0.46        P(NOn18y34) = 0.085\n",
    "# P(NO|18y34) = P(NOn18y34) / P(18y34)    -> 0.085 / 0.46\n",
    "print(f'La probabilidad de que una persona tenga entre 18 y 34 y no tenga un seguro médico es de: {0.085 / 0.46}')"
   ]
  },
  {
   "cell_type": "code",
   "execution_count": 49,
   "metadata": {},
   "outputs": [
    {
     "name": "stdout",
     "output_type": "stream",
     "text": [
      "La probabilidad de que una persona tenga más de 35 años y no tenga un seguro médico es de: 0.12037037037037036\n"
     ]
    }
   ],
   "source": [
    "# e)\n",
    "# P(>35) = 0.54       P(NOn>35) = 0.065\n",
    "\n",
    "# P(NO|>35) = P(NOn>35) / P(>35) = 0.065 / 0.54\n",
    "print(f'La probabilidad de que una persona tenga más de 35 años y no tenga un seguro médico es de: {0.065/0.54}')"
   ]
  },
  {
   "cell_type": "code",
   "execution_count": 51,
   "metadata": {},
   "outputs": [
    {
     "name": "stdout",
     "output_type": "stream",
     "text": [
      "La probabilidad de que una persona sin seguro médico tenga entre 18 y 34 años es de: 0.5666666666666668\n"
     ]
    }
   ],
   "source": [
    "# f)\n",
    "\n",
    "# P(NO) = 0.15           P(18y34nNO) = 0.085\n",
    "\n",
    "# P(18y34|NO) = P(18y34nNO) / P(NO)\n",
    "\n",
    "print(f'La probabilidad de que una persona sin seguro médico tenga entre 18 y 34 años es de: {0.085 / 0.15}')"
   ]
  },
  {
   "cell_type": "code",
   "execution_count": 53,
   "metadata": {},
   "outputs": [],
   "source": [
    "from math import factorial\n",
    "def funcion_binomial(n,k,p):\n",
    "    q = 1 - p\n",
    "\n",
    "    prob = (factorial(n)/factorial(k)*factorial(n-k)) * pow(p,k) * pow(q,(n-k))\n",
    "\n",
    "    return prob"
   ]
  },
  {
   "cell_type": "code",
   "execution_count": 54,
   "metadata": {},
   "outputs": [
    {
     "data": {
      "text/plain": [
       "0.6143999999999998"
      ]
     },
     "execution_count": 54,
     "metadata": {},
     "output_type": "execute_result"
    }
   ],
   "source": [
    "funcion_binomial(4,2,0.8)"
   ]
  },
  {
   "cell_type": "code",
   "execution_count": 56,
   "metadata": {},
   "outputs": [
    {
     "data": {
      "image/png": "[encoded data removed]",
      "text/plain": [
       "<Figure size 640x480 with 1 Axes>"
      ]
     },
     "metadata": {},
     "output_type": "display_data"
    }
   ],
   "source": [
    "from scipy.stats import binom\n",
    "import matplotlib.pyplot as plt\n",
    "# Definir los parámetros de la distribución\n",
    "n = 10  # número de ensayos\n",
    "p = 0.5  # probabilidad de éxito en cada ensayo\n",
    "\n",
    "# Crear la distribución binomial\n",
    "dist = binom(n, p)\n",
    "\n",
    "# Calcular la probabilidad de obtener 5 éxitos en 10 ensayos\n",
    "prob_5_exitos = dist.pmf(5)\n",
    "\n",
    "# Generar 100 valores aleatorios de la distribución binomial\n",
    "valores_aleatorios = dist.rvs(size=100)\n",
    "\n",
    "import matplotlib.pyplot as plt\n",
    "\n",
    "# Crear un histograma de los valores aleatorios generados\n",
    "plt.hist(valores_aleatorios, bins=range(n+2), rwidth=0.95)\n",
    "\n",
    "# Mostrar el gráfico\n",
    "plt.show()\n"
   ]
  },
  {
   "cell_type": "code",
   "execution_count": 57,
   "metadata": {},
   "outputs": [],
   "source": [
    "from math import e\n",
    "\n",
    "def funcion_poisson(lambda_np, k):\n",
    "    prob = (pow(lambda_np, k)/factorial(k)) * pow(e,-lambda_np)\n",
    "\n",
    "    return prob"
   ]
  },
  {
   "cell_type": "code",
   "execution_count": 58,
   "metadata": {},
   "outputs": [
    {
     "data": {
      "text/plain": [
       "0.06072687934595287"
      ]
     },
     "execution_count": 58,
     "metadata": {},
     "output_type": "execute_result"
    }
   ],
   "source": [
    "funcion_poisson(9, 5)"
   ]
  },
  {
   "cell_type": "code",
   "execution_count": 59,
   "metadata": {},
   "outputs": [
    {
     "data": {
      "text/plain": [
       "0.060726879345952875"
      ]
     },
     "execution_count": 59,
     "metadata": {},
     "output_type": "execute_result"
    }
   ],
   "source": [
    "def funcion_poisson2(lambda_np,k):\n",
    "    prob = (pow(e,-lambda_np)*pow(lambda_np, k) / factorial(k))\n",
    "\n",
    "    return prob\n",
    "\n",
    "funcion_poisson2((450*0.02),5)"
   ]
  },
  {
   "cell_type": "code",
   "execution_count": 69,
   "metadata": {},
   "outputs": [
    {
     "data": {
      "text/plain": [
       "0.18736377022633674"
      ]
     },
     "execution_count": 69,
     "metadata": {},
     "output_type": "execute_result"
    }
   ],
   "source": [
    "def funcion_hipergeom(N,K,n,x):\n",
    "    Kx = factorial(K) / (factorial(x)*factorial(K-x))\n",
    "    NK_nx = factorial(N-K) / (factorial(n-x) * factorial((N-K)-(n-x)))\n",
    "    Nn = factorial(N) / (factorial(n) * factorial(N-n))\n",
    "\n",
    "    retorno = (Kx * NK_nx) / Nn\n",
    "    return retorno\n",
    "\n",
    "funcion_hipergeom(80,30,9,2)"
   ]
  },
  {
   "cell_type": "code",
   "execution_count": 68,
   "metadata": {},
   "outputs": [
    {
     "data": {
      "text/plain": [
       "0.18736377022633674"
      ]
     },
     "execution_count": 68,
     "metadata": {},
     "output_type": "execute_result"
    }
   ],
   "source": [
    "def probabilidad_hipergeometrica(N,X,n,x):\n",
    "  Xx = factorial(X)/(factorial(x)*factorial(X-x))\n",
    "  NX_nx= factorial(N-X)/(factorial(n-x)*factorial((N-X)-(n-x)))\n",
    "  Nn = factorial(N)/(factorial(n)*factorial(N-n))\n",
    "  hipergeometrica = (Xx * NX_nx)/Nn\n",
    "\n",
    "  return hipergeometrica\n",
    "\n",
    "probabilidad_hipergeometrica(80,30,9,2)"
   ]
  },
  {
   "cell_type": "code",
   "execution_count": 71,
   "metadata": {},
   "outputs": [
    {
     "data": {
      "image/png": "[encoded data removed]",
      "text/plain": [
       "<Figure size 640x480 with 1 Axes>"
      ]
     },
     "metadata": {},
     "output_type": "display_data"
    }
   ],
   "source": [
    "import numpy as np\n",
    "\n",
    "datos = np.random.normal(0, 1, 1000)\n",
    "\n",
    "import matplotlib.pyplot as plt\n",
    "\n",
    "plt.hist(datos, bins=30, rwidth=0.85)\n",
    "plt.show()\n"
   ]
  }
 ],
 "metadata": {
  "kernelspec": {
   "display_name": "Python 3.11.3 64-bit",
   "language": "python",
   "name": "python3"
  },
  "language_info": {
   "codemirror_mode": {
    "name": "ipython",
    "version": 3
   },
   "file_extension": ".py",
   "mimetype": "text/x-python",
   "name": "python",
   "nbconvert_exporter": "python",
   "pygments_lexer": "ipython3",
   "version": "3.11.3"
  },
  "orig_nbformat": 4,
  "vscode": {
   "interpreter": {
    "hash": "52634da84371cba311ea128a5ea7cdc41ff074b781779e754b270ff9f8153cee"
   }
  }
 },
 "nbformat": 4,
 "nbformat_minor": 2
}
