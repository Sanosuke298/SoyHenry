{
 "cells": [
  {
   "cell_type": "code",
   "execution_count": 21,
   "metadata": {},
   "outputs": [],
   "source": [
    "from math import factorial, e\n",
    "# DISTRIBUCION BINOMIAL\n",
    "def funcion_binomial(k,n,p):\n",
    "    \"\"\" La distribucion binomial se utiliza para varibales aleatorias discretas, que el experimento tenga dos posibles resultados: Exito o Fracaso \"\"\"\n",
    "    q = 1 - p\n",
    "\n",
    "    num_exitos = factorial(n)\n",
    "    num_eventos = factorial(k) * factorial(n-k)\n",
    "    exitos_fracasos = pow(p,k) * pow(q, (n-k))\n",
    "\n",
    "    binomial = (num_exitos / num_eventos) * exitos_fracasos\n",
    "\n",
    "    return binomial\n",
    "\n",
    "# DISTRIBUCION POISSON\n",
    "def funcion_poisson(lambda_np, k):\n",
    "    \"\"\"La distribucion de poisson se utiliza en variables aleatorias discretas y se usa cuando tenemos probabilidades de exito muy bajas y muestras muy grandes\n",
    "    Tambien es utilizada para calcular probabilidades en cuanto a un intervalo de tiempo\n",
    "    \"\"\"\n",
    "    prob = (pow(lambda_np, k) * pow(e,-lambda_np)) / factorial(k)\n",
    "\n",
    "    return prob\n",
    "\n",
    "# DISTRIBUCION HIPERGEOMETRICA\n",
    "from scipy import stats\n",
    "# M ES N, N ES n, n es K y x es k\n",
    "# hiper = stats.hypergeom(M=,N=,n=,x=k)\n",
    "def funcion_hipergeometrica(N,K,n,x):\n",
    "    Kx = factorial(K) / (factorial(x) * factorial(K-x))\n",
    "    NK_nx = factorial((N-K)) / (factorial((n-x)) * factorial((N-K)-(n-x)))\n",
    "    Nn = factorial(N) / (factorial(n) * factorial(N-n))\n",
    "\n",
    "    prob = (Kx * NK_nx) / Nn\n",
    "\n",
    "    return prob"
   ]
  },
  {
   "cell_type": "code",
   "execution_count": 2,
   "metadata": {},
   "outputs": [],
   "source": [
    "# 1\n",
    "# a) x = Tiempo en minutos que le tome preparar el pedido.\n",
    "\n",
    "# b) Cualquier valor positivo -> 0 <= x < infinito -> [0,infinito)\n",
    "\n",
    "# c) Es una variable aleatoria continua"
   ]
  },
  {
   "cell_type": "code",
   "execution_count": 4,
   "metadata": {},
   "outputs": [],
   "source": [
    "# 2 a)\n",
    "H = 'cara'\n",
    "T = 'cruz'\n",
    "# m = tamaño del espacio muestral         n = cantidad de experimentos\n",
    "# m ** n -> 2 ** 2 == 4\n",
    "resultados = {1:[H,H],\n",
    "              2:[H,T],\n",
    "              3:[T,H],\n",
    "              4:[T,T]}\n",
    "\n",
    "# b)\n",
    "# x = Cantidad de caras en el lanzamiento de dos monedas => P(x=0)\n",
    "\n",
    "# c)\n",
    "resultados = {1:[H,H],      #P(x=2) Si x es la cantidad de caras, en este resultado experimental yo tengo 2 veces que sale cara\n",
    "              2:[H,T],      #P(x=1) Solamente salio una vez la cara en la moneda\n",
    "              3:[T,H],      #P(x=1) Solamente salio una vez la cara en la moneda\n",
    "              4:[T,T]}      #P(x=0) En este experimento no salio ninguna vez cara\n",
    "\n",
    "# d) Discreta, solo toma los valores de {2, 1, 0}  "
   ]
  },
  {
   "cell_type": "code",
   "execution_count": 7,
   "metadata": {},
   "outputs": [
    {
     "name": "stdout",
     "output_type": "stream",
     "text": [
      "0.189\n",
      "0.20012094899999994\n"
     ]
    }
   ],
   "source": [
    "# 3\n",
    "# a)  Tiene dos posibles resultados: Hacer una compra {exito} - No comprar {fracaso}\n",
    "#     La probabilidad de compra es de 0.3 para todos los clientes, al igual que la probabilidad de No compra es de 0.7 para todos\n",
    "#     La compra o no compra de un cliente no va a afectar la decision de compra de los otros clientes, son eventos independientes.\n",
    "#     Tres ensayos identicos, tres clientes \n",
    "#     LUEGO DE TODO PODRIAMOS DECIR QUE ENTRA EN LA CLASIFICACION DE LOS EXPERIMENTOS BINOMIALES\n",
    "\n",
    "# b)\n",
    "# n=3  k=2  p=0.3  q=1-0.3=0.7\n",
    "\n",
    "print(funcion_binomial(2,3,0.3))\n",
    "# La probabilidad de que 2 de tres clientes hagan una compra es de 0.189 = 18.9%\n",
    "\n",
    "# c)\n",
    "# n=10  k=4  p=0.3  \n",
    "\n",
    "print(funcion_binomial(4,10,0.3))\n",
    "# La probabilidad de que 4 de 10 clientes hagan una compra es de 0.20 = 20%\n"
   ]
  },
  {
   "cell_type": "code",
   "execution_count": 10,
   "metadata": {},
   "outputs": [
    {
     "name": "stdout",
     "output_type": "stream",
     "text": [
      "0.15629345185053173\n"
     ]
    }
   ],
   "source": [
    "# 4\n",
    "# 48 llamadas por hora y una hora es igual a 60 minutos\n",
    "# Si preguntamos en minutos: 48 / 60 = 0.8\n",
    "# Si la pregunta quiere saber las llamadas en 5 minutos = 0.8 * 5 = 4.0\n",
    "# a) En 5min entren 5 llamadas\n",
    "print(funcion_poisson(4,5))\n",
    "# La probabilidad de que un lapso de 5min entren 5 llamados es de 0.156"
   ]
  },
  {
   "cell_type": "code",
   "execution_count": 11,
   "metadata": {},
   "outputs": [
    {
     "data": {
      "text/plain": [
       "12.0"
      ]
     },
     "execution_count": 11,
     "metadata": {},
     "output_type": "execute_result"
    }
   ],
   "source": [
    "0.8 * 15"
   ]
  },
  {
   "cell_type": "code",
   "execution_count": 15,
   "metadata": {},
   "outputs": [
    {
     "name": "stdout",
     "output_type": "stream",
     "text": [
      "0.1048372558836594\n",
      "0 Prob: 6.144212353328214e-06\n",
      "1 Prob: 7.373054823993857e-05\n",
      "2 Prob: 0.0004423832894396314\n",
      "3 Prob: 0.0017695331577585259\n",
      "4 Prob: 0.0053085994732755765\n",
      "5 Prob: 0.012740638735861386\n",
      "6 Prob: 0.025481277471722772\n",
      "7 Prob: 0.043682189951524744\n",
      "8 Prob: 0.06552328492728712\n",
      "9 Prob: 0.0873643799030495\n",
      "10 Prob: 0.1048372558836594\n",
      "0.3472294175541719\n"
     ]
    }
   ],
   "source": [
    "# b \n",
    "# En una hora entran 46 llamadas, una hora tiene 60 minutos por lo que 48 / 60 = 0.8\n",
    "# Calcular la probabilidad de que entren 10 llamadas en 15 minutos -> 0.8 * 15 = 12\n",
    "# Exito es que entren 10 llamadas\n",
    "print(funcion_poisson(12,10))\n",
    "# La probabilidad de que entren 10 llamadas en un lapso de 15 minutos es de 0.105 = 10.5%\n",
    "llamadas = list(range(0,11))\n",
    "suma = 0\n",
    "for i in llamadas:\n",
    "    print(i,'Prob:',funcion_poisson(12, i))\n",
    "    suma += funcion_poisson(12, i)\n",
    "print(suma)\n",
    "# Cual es la probabilidad de que en un lapso de 15 minutos entres 10 llamadas o más? P(x>=10)\n",
    "# La probabilidad de recibir 10 llamadas o mas es de: 0.347 = 34.7%"
   ]
  },
  {
   "cell_type": "code",
   "execution_count": 17,
   "metadata": {},
   "outputs": [
    {
     "data": {
      "text/plain": [
       "4.0"
      ]
     },
     "execution_count": 17,
     "metadata": {},
     "output_type": "execute_result"
    }
   ],
   "source": [
    "48/60 * 5"
   ]
  },
  {
   "cell_type": "code",
   "execution_count": 16,
   "metadata": {},
   "outputs": [
    {
     "name": "stdout",
     "output_type": "stream",
     "text": [
      "0.018315638888734186\n"
     ]
    }
   ],
   "source": [
    "# c)\n",
    "# 48 llamadas por hora y una hora es igual a 60 minutos\n",
    "# Si preguntamos en minutos: 48 / 60 = 0.8\n",
    "# Si la pregunta quiere saber las llamadas en 5 minutos = 0.8 * 5 = 4.0\n",
    "# En 5 minutos no entren llamadas\n",
    "print(funcion_poisson(4,0))\n",
    "# La probabilidad de que no entren llamadas es de 0.018 = 1.8%\n",
    "# Si cada 48 segundos entra una llamada, en 5 minutos deberia haber 48/60 * 5 llamadas = 4"
   ]
  },
  {
   "cell_type": "code",
   "execution_count": 18,
   "metadata": {},
   "outputs": [
    {
     "data": {
      "text/plain": [
       "2.4000000000000004"
      ]
     },
     "execution_count": 18,
     "metadata": {},
     "output_type": "execute_result"
    }
   ],
   "source": [
    "0.8 * 3"
   ]
  },
  {
   "cell_type": "code",
   "execution_count": 19,
   "metadata": {},
   "outputs": [
    {
     "name": "stdout",
     "output_type": "stream",
     "text": [
      "0.09071795328941253\n"
     ]
    }
   ],
   "source": [
    "# d)\n",
    "# Cual es la probabilidad de tomarse 3 minutos\n",
    "# 48 / 60 -> 0.8 * 3 =  2.4\n",
    "print(funcion_poisson(2.4, 0))\n",
    "# La probabilidad de tomarnos 3 minutos de descanso sin tener llamadas es de 0.09 = 9%"
   ]
  },
  {
   "cell_type": "code",
   "execution_count": 22,
   "metadata": {},
   "outputs": [
    {
     "name": "stdout",
     "output_type": "stream",
     "text": [
      "0.525\n"
     ]
    }
   ],
   "source": [
    "# 5\n",
    "# Si en un grupo de 10 individuos, siete prefieren futbol y tres prefieren básquetbol. Se toma una muestra aleatoria de tres de estas personas.\n",
    "\n",
    "# a) N = 10 K = 7 n = 3 x = 2\n",
    "print(funcion_hipergeometrica(10,7,3,2))\n",
    "# La probabilidad de que 2 de estas 3 personas prefieran futbol es: 0.525 = 52.5%"
   ]
  },
  {
   "cell_type": "code",
   "execution_count": 23,
   "metadata": {},
   "outputs": [
    {
     "name": "stdout",
     "output_type": "stream",
     "text": [
      "0.2916666666666667\n"
     ]
    }
   ],
   "source": [
    "# b) \n",
    "print(funcion_hipergeometrica(10,7,3,3))\n",
    "# La probabilidad de que a las 3 personas les guste mas el futbol es: 0.292 = 2.92%"
   ]
  },
  {
   "cell_type": "code",
   "execution_count": 24,
   "metadata": {},
   "outputs": [
    {
     "name": "stdout",
     "output_type": "stream",
     "text": [
      "La probabilidad de que a la mayoria de las personas (2 o mas) prefieran el fubtol es de: 0.8166666666666667\n"
     ]
    }
   ],
   "source": [
    "# P(x>=2) La mayoria de las personas\n",
    "prob2 = funcion_hipergeometrica(10,7,3,2)\n",
    "prob3 = funcion_hipergeometrica(10,7,3,3)\n",
    "print(f'La probabilidad de que a la mayoria de las personas (2 o mas) prefieran el fubtol es de: {prob2+prob3}')"
   ]
  },
  {
   "cell_type": "code",
   "execution_count": 26,
   "metadata": {},
   "outputs": [
    {
     "name": "stdout",
     "output_type": "stream",
     "text": [
      "0.20012094900000005\n"
     ]
    }
   ],
   "source": [
    "# 6  \n",
    "# n= 10 p= 0.7 k=6 \n",
    "print(funcion_binomial(6,10,0.7))\n",
    "# La probabilidad de que a 6 de 10 alumnos les guste el modulo es de: 0.20 = 20%"
   ]
  },
  {
   "cell_type": "code",
   "execution_count": 27,
   "metadata": {},
   "outputs": [
    {
     "name": "stdout",
     "output_type": "stream",
     "text": [
      "0 La probabilidad es de:  5.9049000000000085e-06\n",
      "1 La probabilidad es de:  0.00013778100000000018\n",
      "2 La probabilidad es de:  0.0014467005000000015\n",
      "3 La probabilidad es de:  0.009001692000000007\n",
      "4 La probabilidad es de:  0.036756909000000025\n",
      "5 La probabilidad es de:  0.10291934520000004\n",
      "6 La probabilidad es de:  0.20012094900000005\n",
      "0.35038928160000016\n"
     ]
    }
   ],
   "source": [
    "# Cual es la probabilida de que a 6 o mas les guste el modulo\n",
    "suma = 0\n",
    "alumnos = list(range(0,7))\n",
    "for i in alumnos:\n",
    "    print(i,'La probabilidad es de: ', funcion_binomial(i,10,0.7))\n",
    "    suma += funcion_binomial(i,10,0.7)\n",
    "print(suma)"
   ]
  },
  {
   "cell_type": "code",
   "execution_count": 28,
   "metadata": {},
   "outputs": [
    {
     "data": {
      "text/plain": [
       "5.904e-06"
      ]
     },
     "execution_count": 28,
     "metadata": {},
     "output_type": "execute_result"
    }
   ],
   "source": [
    "5.904 * 10 **-6"
   ]
  },
  {
   "cell_type": "code",
   "execution_count": 33,
   "metadata": {},
   "outputs": [
    {
     "name": "stdout",
     "output_type": "stream",
     "text": [
      "0.17218688399999993\n"
     ]
    }
   ],
   "source": [
    "# 7\n",
    "# n = 9 k = 7 p = 0.9\n",
    "print(funcion_binomial(7,9,0.9))\n",
    "# La probabilidad de que 7 de los 9 push lleguen a tiempo es de: 0.17 = 17%"
   ]
  },
  {
   "cell_type": "code",
   "execution_count": 34,
   "metadata": {},
   "outputs": [
    {
     "name": "stdout",
     "output_type": "stream",
     "text": [
      "0.9470278620000001\n"
     ]
    }
   ],
   "source": [
    "# 8\n",
    "# P(x>=7)\n",
    "prob7 = funcion_binomial(7,9,0.9)\n",
    "prob8 = funcion_binomial(8,9,0.9)\n",
    "prob9 = funcion_binomial(9,9,0.9)\n",
    "\n",
    "print(prob7+prob8+prob9)"
   ]
  },
  {
   "cell_type": "code",
   "execution_count": 37,
   "metadata": {},
   "outputs": [
    {
     "name": "stdout",
     "output_type": "stream",
     "text": [
      "1.0\n"
     ]
    }
   ],
   "source": [
    "suma = 0\n",
    "for i in range(0,10):\n",
    "    suma += funcion_binomial(i,9,0.9)\n",
    "\n",
    "print(suma)"
   ]
  },
  {
   "cell_type": "code",
   "execution_count": 38,
   "metadata": {},
   "outputs": [
    {
     "name": "stdout",
     "output_type": "stream",
     "text": [
      "0.09007922571921602\n"
     ]
    }
   ],
   "source": [
    "# 9 Utilizar Poisson\n",
    "# lambda = 10   k = 7\n",
    "\n",
    "print(funcion_poisson(10,7))"
   ]
  },
  {
   "cell_type": "code",
   "execution_count": 39,
   "metadata": {},
   "outputs": [
    {
     "name": "stdout",
     "output_type": "stream",
     "text": [
      "0.10444486295705402\n"
     ]
    }
   ],
   "source": [
    "# 10 Utilizar Poisson\n",
    "# lambda= 5      k = 7\n",
    "print(funcion_poisson(5,7))"
   ]
  },
  {
   "cell_type": "code",
   "execution_count": 48,
   "metadata": {},
   "outputs": [
    {
     "name": "stdout",
     "output_type": "stream",
     "text": [
      "0.48\n"
     ]
    },
    {
     "data": {
      "text/plain": [
       "0.6843863034837774"
      ]
     },
     "execution_count": 48,
     "metadata": {},
     "output_type": "execute_result"
    }
   ],
   "source": [
    "normal = stats.norm(78,25)\n",
    "z = (90 - 78) / 25\n",
    "print(z)\n",
    "normal.cdf(90)"
   ]
  },
  {
   "cell_type": "code",
   "execution_count": 47,
   "metadata": {},
   "outputs": [
    {
     "data": {
      "text/plain": [
       "0.6843863034837774"
      ]
     },
     "execution_count": 47,
     "metadata": {},
     "output_type": "execute_result"
    }
   ],
   "source": [
    "stats.norm(78,25).cdf(90)"
   ]
  }
 ],
 "metadata": {
  "kernelspec": {
   "display_name": "Python 3.11.3 64-bit",
   "language": "python",
   "name": "python3"
  },
  "language_info": {
   "codemirror_mode": {
    "name": "ipython",
    "version": 3
   },
   "file_extension": ".py",
   "mimetype": "text/x-python",
   "name": "python",
   "nbconvert_exporter": "python",
   "pygments_lexer": "ipython3",
   "version": "3.11.3"
  },
  "orig_nbformat": 4,
  "vscode": {
   "interpreter": {
    "hash": "52634da84371cba311ea128a5ea7cdc41ff074b781779e754b270ff9f8153cee"
   }
  }
 },
 "nbformat": 4,
 "nbformat_minor": 2
}
