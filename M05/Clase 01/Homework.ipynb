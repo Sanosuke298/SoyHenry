{
 "cells": [
  {
   "cell_type": "markdown",
   "metadata": {},
   "source": [
    "## Homework\n",
    "\n",
    "1.\tDesde la gerencia de ventas nos comentan que es necesario aumentar el volumen de facturación y cobertura de regiones ( tener clientes en la mayor cantidad posible de zonas) como también evitar la pérdida de clientes, hoy por hoy se manejan con un Excel que alguien armo en algún momento, pero no confían en esa data para seguir este nuevo objetivo, de manera tal que no se conoce realmente el estado de situación actual. Por lo tanto como departamento de data analytics tenemos que presentarles una propuesta basadas en datos para acompañar este proceso de negocio.\n",
    "- \tEn base al modelo de datos utilizado en M3  generar una un propuesta analítico de cada tipo según lo visto en clase:\n",
    "\n",
    "- a) Descriptivo \n",
    "- b) Dashboard\n",
    "- c) Predictivo\n",
    "- d) Prescriptivo\n"
   ]
  },
  {
   "cell_type": "markdown",
   "metadata": {},
   "source": [
    "a) \n",
    "b)\n",
    "c)\n",
    "d)"
   ]
  },
  {
   "cell_type": "markdown",
   "metadata": {},
   "source": [
    "2. Relaciona cada situación con algún tipo de gráfico:\n",
    "- a) Velocidad de frenado promedio de 5 modelos distintos de vehículos.<br>\n",
    "Gráfico de columnas:<br>\n",
    "Eje x = modelos de vehículos.<br>\n",
    "Eje y = Velocidad promedio de frenado.<br>\n",
    "- b) Costo de una llamada por segundos.<br>\n",
    "Gráfico de líneas:\n",
    "Eje x = Csoto de la llamada.<br>\n",
    "Eje y = Segundos de duración.<br>\n",
    "- c) El recorrido del equipo de ventas de una distribuidora con 4 paradas y las sumas vendidas en cada una.<br>\n",
    "Mapa georeferenciado:<br>\n",
    "Latiud y longitud de cada parada.<br>\n",
    "Importe de ventas totales en cada punto.<br>\n",
    "- d) Cantidad de edificios y casas que conforman un barrio.\n",
    "Gráfico circular:<br>\n",
    "Dos categorias.<br>\n",
    "Cantidad total por categoría.<br>"
   ]
  },
  {
   "cell_type": "markdown",
   "metadata": {},
   "source": [
    "c) Distribución: Gráfico de dispersión.\n",
    "d) Composición: Composición del barrio según si los edificios son edificios o casas."
   ]
  },
  {
   "cell_type": "markdown",
   "metadata": {},
   "source": [
    "3. El siguiente gráfico representa el movimiento vehículo desde un punto. Interprétala y responde a las siguientes preguntas:\n",
    "- a) ¿Cuánto tiempo ha estado andando?\n",
    "- b) ¿Hasta que distancia máxima del recorrido pudo realizar?\n",
    "- c) ¿Ha hecho alguna parada?\n",
    "- d) ¿Que sucede luego del pico de mts recorrido?\n",
    "- e) ¿Cuantos metros recorrio en total?"
   ]
  },
  {
   "cell_type": "markdown",
   "metadata": {},
   "source": [
    "a) 11 minutos\n",
    "b) 80 metros\n",
    "c) Si, entre los minutos 2 y 4\n",
    "d) Disminuye la distancia al origen\n",
    "e) 150 metros"
   ]
  },
  {
   "cell_type": "markdown",
   "metadata": {},
   "source": [
    "![Ejercicio2](/_src/assets/ejer2.PNG)"
   ]
  },
  {
   "cell_type": "markdown",
   "metadata": {},
   "source": [
    "\n",
    "\n",
    "4. Se decide presentar el volumen de ventas de 5 productos correspondientes a una distribuidora de alimentos. Los productos van de A = 100 un., B = 95 un., C =90 un., D = 88 un., E = 105 un.\n",
    " - a) ¿Que gráfico utilizaría?.\n",
    " - b) ¿Sería correcto utilizar un gráfico de lineas? ¿Por qué?.\n",
    " - c) ¿Sería correcto utilizar un gráfico circular? ¿Por qué?.\n"
   ]
  },
  {
   "cell_type": "markdown",
   "metadata": {},
   "source": [
    "a) Comparación. Gráfico de barras.\n",
    "b) No, porque no hay una relación entre dos variables.\n",
    "c) Si, porque se intenta determinar la composición del volumen de ventas por producto."
   ]
  },
  {
   "cell_type": "markdown",
   "metadata": {},
   "source": [
    "\n",
    "5. Se presenta el siguiente gráfico. ![Ejercicio3](/_src/assets/ejer3.PNG)\n",
    " - a) ¿Es correcta su utilización?\n",
    " - b) ¿Que inconveniente presenta a la hora de reconocer patrones?\n",
    " - c) ¿Qué otros tipos de gráficos utilizaría?\n",
    " - d) ¿Que tipo de tematicas estarían relacionadas a la variable presentada?"
   ]
  },
  {
   "cell_type": "markdown",
   "metadata": {},
   "source": [
    "a) Si, porque nos permite tener una idea de cómo fue \n",
    "b) No nos permite analizar otras variables implicadas en el resultado.\n",
    "c) \n",
    "d) Son opiniones de los entrevistados en base a un producto, servicio, etc."
   ]
  },
  {
   "cell_type": "markdown",
   "metadata": {},
   "source": [
    "\n",
    "6. Debes instalar Power BI Desktop y seguir las instrucciones del siguiente link para realizar tu primer conexión de datos:"
   ]
  },
  {
   "cell_type": "markdown",
   "metadata": {},
   "source": [
    "\n",
    "[Conexión OData](https://docs.microsoft.com/en-us/power-query/power-query-ui)\n",
    "\n",
    "- Conecta las tablas \"Products\", \"Orders\", \"Order_Details\".\n",
    "\n",
    "7. Investigar que es un mockup y diseñar uno para el modelo presentado, realice la selección de gráficos de cada métrica conforme a las reglas presentadas en esta clase.<br>\n",
    "Las métricas a representar son:\n",
    "  - Filtros para Fecha de orde, País, Ciudad y Producto.\n",
    "  - Cantidad de ventas totales (Agregar una columna cálculada Total = Order_Details[Quantity]*Order_Details[UnitPrice]).<br>\n",
    "  [Columnas cálculadas](https://docs.microsoft.com/es-es/power-bi/transform-model/desktop-tutorial-create-calculated-columns).\n",
    "  - Ventas por ciudad.\n",
    "  - Ventas por productos.\n",
    "  - Evolución del total de ventas por fecha de orden.\n",
    "  - Top 10 de ventas por productos."
   ]
  }
 ],
 "metadata": {
  "language_info": {
   "name": "python"
  }
 },
 "nbformat": 4,
 "nbformat_minor": 2
}
