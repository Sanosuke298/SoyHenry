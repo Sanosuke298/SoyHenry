{
 "cells": [
  {
   "cell_type": "markdown",
   "metadata": {},
   "source": [
    "# **Tablas resumen**"
   ]
  },
  {
   "cell_type": "markdown",
   "metadata": {},
   "source": [
    "| Término | Definición |\n",
    "|---|---|\n",
    "| **Análisis de datos** | Proceso de recopilación, limpieza, análisis e interpretación de datos para obtener información útil. |\n",
    "| **Big data** | Conjuntos de datos de gran tamaño y complejidad que requieren el uso de herramientas y técnicas especializadas para su análisis. |\n",
    "| **Ciencia de datos** | Disciplina que se ocupa de la extracción de conocimiento a partir de datos. |\n",
    "| **Data mining** | Proceso de descubrimiento de patrones y tendencias en datos. |\n",
    "| **Data warehouse** | Base de datos centralizada que almacena datos históricos y operativos de una organización. |\n",
    "| **Insight** | Conocimiento o comprensión profunda de algo. |\n",
    "| **Modelo** | Representación simplificada de un sistema real. |\n",
    "| **Visualización de datos** | Representación de datos de forma comprensible e intuitiva. |"
   ]
  },
  {
   "cell_type": "markdown",
   "metadata": {},
   "source": []
  },
  {
   "cell_type": "markdown",
   "metadata": {},
   "source": [
    "## **Data Analytics**\n",
    "\n",
    "**Objetivo** El objetivo de la analítica de datos es extraer información útil y valiosa de los datos. \n",
    "\n",
    "**Proceso:**  La analítica de datos es un proceso que consta de cuatro pasos:\n",
    "\n",
    "* **Recopilación de datos:** Se recopilan los datos de una variedad de fuentes. \n",
    "\n",
    "* **Limpieza de datos:** Se limpian los datos para eliminar errores y anomalías.\n",
    "\n",
    "* **Análisis de datos:** Se aplican técnicas de análisis para extraer información de los datos.\n",
    "\n",
    "* **Presentación de resultados:** Se presentan los resultados del análisis a los usuarios.\n",
    "\n",
    "**Los componentes de la analítica de datos son**:\n",
    "\n",
    "* **Datos:** Los datos son la materia prima de la analítica de datos.\n",
    "\n",
    "* **Herramientas:** Las herramientas de analítica de datos permiten a los usuarios limpiar, analizar y presentar los datos.\n",
    "\n",
    "* **Métodos:** Los métodos de analítica de datos son las técnicas que se utilizan para extraer información de los datos.\n",
    "\n",
    "* **Usuarios:** Los usuarios de la analítica de datos son las personas que utilizan los resultados del análisis para tomar decisiones.\n",
    "\n",
    "**Tipos de analítica de datos**\n",
    "\n",
    "* **Analítica descriptiva:** Se utiliza para describir los datos y encontrar patrones.\n",
    "* **Analítica predictiva:** Se utiliza para predecir resultados futuros.\n",
    "* **Analítica prescriptiva:** Se utiliza para generar recomendaciones.\n",
    "\n",
    "**Herramientas**\n",
    "\n",
    "* **Tableau**\n",
    "* **Power BI**\n",
    "* **QlikView**\n",
    "* **Matplotlib**\n",
    "* **Seaborn**\n",
    "* **ggplot2**\n",
    "\n",
    "**Consejos para la analítica de datos**\n",
    "\n",
    "* **Conozca sus datos:** Es importante entender los datos que se están analizando.\n",
    "* **Elija las herramientas adecuadas:** Hay muchas herramientas de analítica de datos disponibles. Elija la herramienta adecuada para sus necesidades.\n",
    "* **Aprenda los métodos adecuados:** Hay muchos métodos de analítica de datos disponibles. Aprenda los métodos adecuados para sus datos.\n",
    "* **Comunique sus resultados:** Es importante comunicar los resultados del análisis de forma clara y concisa.\n",
    "\n"
   ]
  },
  {
   "cell_type": "markdown",
   "metadata": {},
   "source": []
  },
  {
   "cell_type": "markdown",
   "metadata": {},
   "source": [
    "## Storytelling desde una perspectiva general\n",
    "\n",
    "| Componente | Descripción |\n",
    "|---|---|\n",
    "| **Historia** | Es el elemento central del storytelling. Es una narración que tiene un inicio, un nudo y un desenlace. |\n",
    "| **Personajes** | Son los protagonistas de la historia. Los personajes deben ser creíbles y relatables para el público. |\n",
    "| **Ambiente** | Es el lugar y el tiempo en el que se desarrolla la historia. El ambiente debe ser detallado y evocador para sumergir al público en la historia. |\n",
    "| **Conflicto** | Es el obstáculo que debe superar el protagonista para alcanzar su objetivo. El conflicto debe ser relevante y emocionante para mantener el interés del público. |\n",
    "| **Mensaje** | Es la moraleja o la enseñanza que deja la historia. El mensaje debe ser claro y conciso para que el público lo recuerde. |\n",
    "\n",
    "**Elementos adicionales**\n",
    "\n",
    "| Componente | Descripción |\n",
    "|---|---|\n",
    "| **Trama** | Es la estructura de la historia. La trama debe ser coherente y creíble para que el público pueda seguirla. |\n",
    "| **Narrador** | Es la persona que cuenta la historia. El narrador puede ser omnisciente, que sabe todo lo que ocurre en la historia; o limitado, que solo conoce lo que los personajes saben. |\n",
    "| **Expresión** | Es la forma en que se cuenta la historia. La expresión debe ser clara, concisa y atractiva para el público. |\n",
    "\n",
    "**Claves para un buen storytelling**\n",
    "\n",
    "* **Conectar con el público:** El storytelling debe conectar con el público emocional y racionalmente.\n",
    "* **Ser claro y conciso:** La historia debe ser fácil de entender y seguir.\n",
    "* **Ser relevante:** La historia debe ser relevante para el público.\n",
    "* **Ser memorable:** La historia debe dejar un mensaje o una enseñanza que el público pueda recordar.\n",
    "\n",
    "\n"
   ]
  },
  {
   "cell_type": "markdown",
   "metadata": {},
   "source": []
  },
  {
   "cell_type": "markdown",
   "metadata": {},
   "source": [
    "### **Storytelling con datos**\n",
    "\n",
    "| Componente | Descripción |\n",
    "|---|---|\n",
    "| **Objetivo** | El objetivo del storytelling con datos es utilizar datos para contar una historia que sea atractiva e informativa para el público. |\n",
    "| **Público objetivo** | Es importante tener en cuenta el público objetivo al crear una historia de datos. La historia debe ser relevante y atractiva para el público objetivo. |\n",
    "| **Historia** | La historia es el elemento central del storytelling con datos. La historia debe ser clara, concisa y fácil de entender. |\n",
    "| **Datos** | Los datos son los elementos que componen la historia. Los datos deben ser relevantes, interesantes y fáciles de entender. |\n",
    "| **Visualización de datos** | La visualización de datos es la forma en que se presentan los datos. La visualización de datos debe ser clara, concisa y atractiva para el público. |\n",
    "| **Mensaje** | El mensaje es la moraleja o la enseñanza que deja la historia. El mensaje debe ser claro y conciso para que el público lo recuerde. |\n",
    "\n",
    "**Pasos para crear una historia de datos**\n",
    "\n",
    "1. **Empieza con una idea.** ¿Qué historia quieres contar? ¿Qué mensaje quieres transmitir?\n",
    "2. **Investiga tus datos.** ¿Qué datos necesitas para contar tu historia? ¿Cómo se pueden organizar los datos para contar una historia clara y concisa?\n",
    "3. **Crea una visualización de datos.** La visualización de datos debe ser clara, concisa y atractiva para el público.\n",
    "4. **Escribe una narrativa.** La narrativa debe contar la historia de forma clara y atractiva.\n",
    "5. **Practica y presenta.** Practica tu historia y preséntala a tu público objetivo.\n",
    "\n",
    "**Herramientas para crear historias de datos**\n",
    "\n",
    "* **Tableau**\n",
    "* **Power BI**\n",
    "* **QlikView**\n",
    "* **Matplotlib**\n",
    "* **Seaborn**\n",
    "* **ggplot2**\n",
    "\n",
    "**Consejos para crear historias de datos**\n",
    "\n",
    "* **Sé claro y conciso.** La historia debe ser fácil de entender y seguir.\n",
    "* **Utiliza datos relevantes.** Los datos deben ser relevantes para la historia que quieres contar.\n",
    "* **Utiliza una visualización de datos clara.** La visualización de datos debe ser fácil de entender y seguir.\n",
    "* **Ten un mensaje claro.** El mensaje debe ser claro y conciso para que el público lo recuerde.\n",
    "\n",
    "**Ejemplos de historias de datos**\n",
    "\n",
    "* **Un gráfico de líneas que muestra la evolución de las ventas a lo largo del tiempo.**\n",
    "* **Una tabla que muestra la comparación de precios entre diferentes productos.**\n",
    "* **Un mapa de calor que muestra la distribución de la población por edad.**\n",
    "* **Un gráfico de dispersión que muestra la relación entre dos variables.**\n",
    "* **Una visualización interactiva que permite al usuario explorar los datos de forma personalizada.**\n"
   ]
  },
  {
   "cell_type": "markdown",
   "metadata": {},
   "source": []
  },
  {
   "cell_type": "markdown",
   "metadata": {},
   "source": []
  },
  {
   "cell_type": "markdown",
   "metadata": {},
   "source": [
    "## **Tipos de visualización de datos**\n",
    "\n",
    "| Tipo | Descripción |\n",
    "|---|---|\n",
    "| **Descriptiva** | Visualización que se utiliza para describir datos. |\n",
    "| **Comparativa** | Visualización que se utiliza para comparar datos. |\n",
    "| **Analítica** | Visualización que se utiliza para analizar datos. |\n",
    "| **Narrativa** | Visualización que se utiliza para contar una historia. |"
   ]
  },
  {
   "cell_type": "markdown",
   "metadata": {},
   "source": []
  },
  {
   "cell_type": "markdown",
   "metadata": {},
   "source": [
    "## **Tipos de Variable**\n",
    "\n",
    "| Tipo | Descripción | Ejemplo |\n",
    "|---|---|---|\n",
    "| **Cualitativa** | Se refiere a características o cualidades que no pueden ser medidas con números. | **Género** (hombre, mujer), **color de ojos** (azul, verde, marrón), **país de origen** (España, Francia, México) |\n",
    "| **Cuantitativa** | Se refiere a características o cualidades que pueden ser medidas con números, se dividen en Discretas y Continuas | **Peso** (kilogramos), **altura** (metros), **temperatura** (grados Celsius) |\n",
    "| **Nominal** | Las categorías de una variable nominal no tienen un orden natural. | **Color de ojos** (Azules, verdes, marrones), **estado civil** (soltero, casado, divorciado), **religión** (cristiano, musulmán, judío) |\n",
    "| **Ordinal** | Las categorías de una variable ordinal tienen un orden natural, pero no tienen intervalos iguales. | **Nivel de estudios** (primaria, secundaria, preparatoria, universidad, posgrado), **calificación de un examen** (aprobado, suficiente, insuficiente), **posición en una carrera** (primero, segundo, tercero) |\n",
    "| **Intervalos** | Las categorías de una variable de intervalos tienen un orden natural y intervalos iguales. | **Temperatura** (grados Celsius, Fahrenheit), **pH** (escala de 0 a 14), **calificación de un cuestionario** (del 1 al 10) |\n",
    "| **Razón** | Las categorías de una variable de razón tienen un orden natural, intervalos iguales y un punto cero absoluto. | **Edad** (años), **distancia** (kilómetros), **velocidad** (kilómetros por hora) |\n"
   ]
  },
  {
   "cell_type": "markdown",
   "metadata": {},
   "source": []
  },
  {
   "cell_type": "markdown",
   "metadata": {},
   "source": []
  },
  {
   "cell_type": "markdown",
   "metadata": {},
   "source": [
    "## **Tipos de gráficos**\n",
    "\n",
    "| Término | Definición | Ejemplo |\n",
    "|---|---|---|\n",
    "| **Barras** | Gráfico que representa datos mediante barras de diferentes alturas. | Gráfico que muestra las ventas mensuales de una tienda. Número de ventas por país |\n",
    "| **Gráfico circular** | Gráfico que representa datos mediante porciones de un círculo. | Gráfico que muestra la distribución porcentual de diferentes categorías en un conjunto de datos. Porcentaje de participación de mercado por marca.|\n",
    "| **Gráfico de líneas** | Gráfico que representa datos mediante líneas que conectan puntos. | Gráfico que muestra la evolución de la temperatura a lo largo de un año.|\n",
    "| **Gráfico de dispersión** | Gráfico que representa datos mediante puntos que se colocan en un plano. | Gráfico que muestra la relación entre la edad y la altura de un grupo de personas. Relación entre la altura y el peso de las personas.|\n",
    "| **Histograma** | Gráfico que representa datos mediante barras que representan la frecuencia de cada valor. | Gráfico que muestra la distribución de las calificaciones en un examen. |\n",
    "| **Mapa de calor** | Gráfico que representa datos mediante colores que indican la intensidad de un valor. | Mapa de calor que muestra la concentración de la población en diferentes áreas geográficas.  |\n",
    "| **Nube de palabras** | Gráfico que representa datos mediante palabras que se colocan en un plano según su frecuencia. | Nube de palabras que muestra las palabras más comunes en un artículo. |\n",
    "| **Tabla** | Representación de datos mediante filas y columnas. | Tabla que muestra los nombres y edades de los empleados de una empresa. Datos de una encuesta.|\n",
    "| **Gráfico de área** | Gráfico que representa datos mediante áreas de diferentes colores o tonalidades. | Gráfico de área que muestra la distribución de ingresos de diferentes fuentes en una organización. Volumen de ventas por mes. |\n",
    "| **Gráfico de tarta** | Gráfico que representa datos mediante porciones de una tarta. | Gráfico de tarta que muestra la distribución de presupuesto en diferentes departamentos. Gastos mensuales de una persona.|\n",
    "| **Gráfico de caja y bigotes** | Gráfico que representa datos mediante una caja, bigotes y valores atípicos. | Gráfico de caja y bigotes que muestra la distribución de alturas en un grupo de personas. |\n",
    "| **Gráfico de Gantt** | Gráfico que representa un proyecto mediante una cuadrícula. | Gráfico de Gantt que muestra las tareas y plazos de un proyecto de construcción.  |\n",
    "| **Gráfico de mapa** | Gráfico que representa datos mediante un mapa. | Gráfico de mapa que muestra la distribución geográfica de las ventas de una empresa a nivel mundial. |\n",
    "| **Gráfico de árbol** | Gráfico que representa datos mediante una estructura de árbol. | Gráfico de árbol que muestra la estructura jerárquica de una organización. Árbol genealógico de una familia. |\n",
    "| **Gráfico de burbujas** | Gráfico que representa datos mediante burbujas de diferentes tamaños y colores. | Gráfico de burbujas que muestra la población y el PIB per cápita de diferentes países. Relación entre el tamaño de una empresa y su facturación. |\n",
    "| **Gráfico de radar** | Gráfico que representa datos mediante una serie de líneas que se extienden desde un punto central. | Gráfico de radar que muestra las habilidades de un jugador de fútbol en diferentes aspectos como velocidad, precisión y resistencia. Rendimiento de un equipo deportivo en diferentes categorías. |\n"
   ]
  },
  {
   "cell_type": "markdown",
   "metadata": {},
   "source": []
  },
  {
   "cell_type": "markdown",
   "metadata": {},
   "source": []
  },
  {
   "cell_type": "markdown",
   "metadata": {},
   "source": [
    "## **Herramientas de visualización de datos**\n",
    "\n",
    "| Herramienta | Coste | Tipo | Plataforma | Características |\n",
    "|---|---|---|---|---|\n",
    "| Tableau | De pago | Visualización | Cloud, local | Gráficos interactivos, análisis de datos, narración de historias |\n",
    "| Power BI | De pago | Visualización | Cloud, local | Gráficos interactivos, análisis de datos, narración de historias |\n",
    "| QlikView | De pago | Visualización | Local | Gráficos interactivos, análisis de datos, narración de historias |\n",
    "| Matplotlib | Libre | Visualización | Python | Gráficos estáticos, gráficos interactivos |\n",
    "| Seaborn | Libre | Visualización | Python | Gráficos estadísticos, gráficos interactivos |\n",
    "| ggplot2 | Libre | Visualización | R | Gráficos estadísticos, gráficos interactivos |\n",
    "\n",
    "**Características comunes**\n",
    "\n",
    "* **Análisis descriptivo:** Todas las herramientas permiten realizar análisis descriptivo, que es el proceso de describir los datos y encontrar patrones.\n",
    "* **Visualización de datos:** Todas las herramientas permiten crear visualizaciones de datos, que son una forma eficaz de comunicar información.\n",
    "* **Análisis predictivo:** Algunas herramientas, como Tableau, Power BI y QlikView, permiten realizar análisis predictivo, que es el proceso de predecir resultados futuros.\n",
    "* **Análisis prescriptivo:** Algunas herramientas, como Tableau, Power BI y QlikView, permiten realizar análisis prescriptivo, que es el proceso de generar recomendaciones.\n",
    "\n",
    "**Características específicas**\n",
    "\n",
    "* **Tableau y Power BI:** Estas herramientas son las más populares para la visualización de datos. Ofrecen una amplia gama de gráficos y funciones interactivas que permiten crear visualizaciones atractivas y fáciles de entender.\n",
    "* **QlikView:** Esta herramienta es conocida por su capacidad de análisis en tiempo real. Permite a los usuarios realizar análisis de datos mientras los datos se están recopilando.\n",
    "* **Matplotlib, Seaborn y ggplot2:** Estas herramientas son bibliotecas de Python y R que se utilizan para crear gráficos estadísticos. Ofrecen una amplia gama de funciones para crear gráficos personalizados.\n",
    "\n",
    "**Elección de la herramienta adecuada**\n",
    "\n",
    "La elección de la herramienta adecuada de analítica de datos depende de las necesidades específicas del usuario. Los factores a tener en cuenta incluyen el tipo de análisis que se va a realizar, el tamaño de los datos, el presupuesto y el nivel de experiencia del usuario.\n",
    "\n",
    "Para los usuarios que necesitan una herramienta de visualización de datos potente y fácil de usar, Tableau o Power BI son buenas opciones. Para los usuarios que necesitan una herramienta de análisis predictivo o prescriptivo, Tableau, Power BI o QlikView son buenas opciones. Para los usuarios que necesitan crear gráficos estadísticos personalizados, Matplotlib, Seaborn o ggplot2 son buenas opciones.\n"
   ]
  },
  {
   "cell_type": "markdown",
   "metadata": {},
   "source": []
  },
  {
   "cell_type": "markdown",
   "metadata": {},
   "source": []
  },
  {
   "cell_type": "markdown",
   "metadata": {},
   "source": [
    "## **Tipos de gráficos en Seaborn y matplolib**\n",
    "\n",
    "| Tipo de Gráfico       | Función de Seaborn              | Descripción de las Partes             | Variables a Usar                |\n",
    "|-----------------------|---------------------------------|---------------------------------------|---------------------------------|\n",
    "| Gráfico de Histograma | `sns.histplot`                  | Representa la distribución de una variable numérica. | Una variable numérica         |\n",
    "| Gráfico de KDE        | `sns.kdeplot`                   | Muestra la estimación de la densidad de probabilidad de una variable continua. | Una variable numérica         |\n",
    "| Gráfico de ECDF       | `sns.ecdfplot`                  | Muestra la función de distribución acumulativa empírica de una variable. | Una variable numérica         |\n",
    "| Gráfico de Tira       | `sns.stripplot`                 | Muestra puntos individuales a lo largo de un eje categórico. | Una variable categórica y una variable numérica |\n",
    "| Gráfico de Enjambre    | `sns.swarmplot`                 | Similar al gráfico de tira, pero evita que los puntos se superpongan. | Una variable categórica y una variable numérica |\n",
    "| Gráfico de Caja       | `sns.boxplot`                   | Muestra la distribución estadística de una variable numérica a través de cuartiles. | Una variable categórica y una variable numérica |\n",
    "| Gráfico de Violín     | `sns.violinplot`                | Combina un gráfico de caja con un gráfico de densidad para mostrar la distribución de datos. | Una variable categórica y una variable numérica |\n",
    "| Gráfico de Puntos     | `sns.pointplot`                 | Muestra puntos y líneas para representar la relación entre dos variables. | Dos variables categóricas y una variable numérica |\n",
    "| Gráfico de Barras     | `sns.barplot`                   | Muestra la relación entre una variable categórica y una variable numérica utilizando barras. | Una variable categórica y una variable numérica |\n",
    "| Gráfico de Líneas     | `sns.lineplot`                  | Muestra la relación entre dos variables numéricas utilizando líneas. | Dos variables numéricas       |\n",
    "| Gráfico de Relación   | `sns.relplot`                   | Muestra la relación entre dos variables numéricas con opciones para diferentes estilos de trazado. | Dos variables numéricas       |\n",
    "| Gráfico de Correlación| `sns.heatmap`                   | Muestra la correlación entre variables numéricas como colores en una matriz. | Variables numéricas           |\n",
    "| Gráfico de Conjunto   | `sns.jointplot`                 | Muestra la relación entre dos variables junto con las distribuciones univariadas de cada variable. | Dos variables numéricas       |\n",
    "| Gráfico de Regresión  | `sns.lmplot`                    | Muestra la relación entre dos variables numéricas con una línea de regresión ajustada. | Dos variables numéricas       |"
   ]
  },
  {
   "cell_type": "markdown",
   "metadata": {},
   "source": []
  },
  {
   "cell_type": "markdown",
   "metadata": {},
   "source": [
    "## **Funciones muy utilizadas en Power BI**\n",
    "\n",
    "| Función                | Descripción                                             | Estructura de Uso                                       |\n",
    "|------------------------|---------------------------------------------------------|----------------------------------------------------------|\n",
    "| **CALCULATE**          | Modifica el contexto de filtro de una expresión.        | `CALCULATE(<expresión>, <filtro1>, <filtro2>, ...) `     |\n",
    "| **SUM**                | Calcula la suma de un conjunto de valores.               | `SUM(<columna o expresión>)`                            |\n",
    "| **AVERAGE**            | Calcula el promedio de un conjunto de valores.          | `AVERAGE(<columna o expresión>)`                        |\n",
    "| **COUNT**              | Cuenta el número de filas en un contexto dado.          | `COUNT(<columna>)`                                      |\n",
    "| **MAX**                | Devuelve el valor máximo en un conjunto de valores.     | `MAX(<columna o expresión>)`                            |\n",
    "| **MIN**                | Devuelve el valor mínimo en un conjunto de valores.     | `MIN(<columna o expresión>)`                            |\n",
    "| **FILTER**             | Filtra un conjunto de datos basado en una condición.    | `FILTER(<tabla>, <condición>)`                           |\n",
    "| **RELATED**            | Recupera una columna relacionada de otra tabla.         | `RELATED(<columna>)`                                    |\n",
    "| **SUMX**               | Suma una expresión evaluada para cada fila.             | `SUMX(<tabla>, <expresión>)`                            |\n",
    "| **AVERAGEX**           | Calcula el promedio de una expresión para cada fila.    | `AVERAGEX(<tabla>, <expresión>)`                        |\n",
    "| **CALCULATETABLE**     | Evalúa una tabla expresada como una expresión.          | `CALCULATETABLE(<tabla>, <filtro1>, <filtro2>, ...) `    |\n",
    "| **DATESYTD**          | Devuelve el conjunto de fechas del año hasta la fecha.   | `DATESYTD(<fecha>, <year_end_date>, <year_column>)`      |\n",
    "| **DATESQTD**          | Devuelve el conjunto de fechas del trimestre hasta la fecha. | `DATESQTD(<fecha>, <quarter_end_date>, <quarter_column>)` |\n",
    "| **DATESMTD**          | Devuelve el conjunto de fechas del mes hasta la fecha.   | `DATESMTD(<fecha>, <month_end_date>, <month_column>)`    |\n",
    "| **PARALLELPERIOD**     | Devuelve un conjunto de fechas que es un número de períodos antes o después de la fecha especificada. | `PARALLELPERIOD(<fecha>, <number_of_periods>, <period_type>)` |\n",
    "| **TOTALYTD**          | Devuelve el resultado del año hasta la fecha para una expresión dada. | `TOTALYTD(<expresión>, <fecha>, <year_column>)` |\n",
    "| **TOTALQTD**          | Devuelve el resultado del trimestre hasta la fecha para una expresión dada. | `TOTALQTD(<expresión>, <fecha>, <quarter_column>)` |\n",
    "| **TOTALMTD**          | Devuelve el resultado del mes hasta la fecha para una expresión dada. | `TOTALMTD(<expresión>, <fecha>, <month_column>)` |\n"
   ]
  },
  {
   "cell_type": "markdown",
   "metadata": {},
   "source": []
  }
 ],
 "metadata": {
  "language_info": {
   "name": "python"
  },
  "orig_nbformat": 4
 },
 "nbformat": 4,
 "nbformat_minor": 2
}
